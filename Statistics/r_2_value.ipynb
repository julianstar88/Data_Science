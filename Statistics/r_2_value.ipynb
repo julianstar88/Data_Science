{
 "cells": [
  {
   "cell_type": "markdown",
   "metadata": {},
   "source": [
    "# What is the meaning of $R^2$\n",
    "$R^2$ is a statistic quantity typically connected with linear regressions. It´s purpose is to measure how good a model fits to the data. Generally we can calculate the residuals of each datapoint and a predicted value, which gives us a measure of **how good we are in predicting** single datapoints. $R^2$ enters the game, if we want to know how well our model fits the data in general.\n",
    "\n",
    "## Decomposition of the Sum of Squares\n",
    "first of all some vobabulary:\n",
    "\n",
    "- SQT (Sum of Squares Total): $SQT = \\sum_{i = 1}^n(y_i - \\overline y)^2$\n",
    "\n",
    "- SQE (Sum of Squares Explained): $SQE = \\sum_{i = 1}^n(\\hat y_1 - y_i)^2$\n",
    "\n",
    "- SQR (Sum of Squares Residuals): $SQR = \\sum_{i = 1}^n(y_i - \\hat y_i)^2$\n",
    "\n",
    "We state that we can break down SQT into two terms SQE and SQR as follows:\n",
    "\n",
    "$SQT = SQE + SQR$\n",
    "\n",
    "$R^2$ now is defined as the ratio between SQE and SQT\n",
    "\n",
    "$R^2 = \\dfrac{SQE}{SQR} = \\dfrac{\\sum_i(\\hat y_i - y_i)^2}{\\sum_i(y_i - \\overline y)} = 1 - \\dfrac{\\sum_i(y_i - \\hat y_i)^2}{\\sum_i(y_i - \\overline y)} = 1 - \\dfrac{SQR}{SQT}$\n",
    "\n",
    "Lets have a look at how this works out with some Data"
   ]
  },
  {
   "cell_type": "code",
   "execution_count": 9,
   "metadata": {
    "tags": [
     "imports"
    ]
   },
   "outputs": [],
   "source": [
    "import matplotlib.pyplot as plt\n",
    "import numpy as np\n",
    "import streamlit as st\n",
    "\n",
    "plt.style.use(\"ggplot\")"
   ]
  },
  {
   "cell_type": "code",
   "execution_count": 22,
   "metadata": {
    "tags": [
     "functions"
    ]
   },
   "outputs": [],
   "source": [
    "def SQT(true_vals: np.ndarray) -> float:\n",
    "    return np.sum(np.square(true_vals - np.mean(true_vals)))\n",
    "\n",
    "def SQE(true_vals: np.ndarray, predicted_vals: np.ndarray) -> float:\n",
    "    return np.sum(np.square(predicted_vals - np.mean(true_vals)))\n",
    "\n",
    "def SQR(true_vals: np.ndarray, predicted_vals: np.ndarray) -> float:\n",
    "    return np.sum(np.square(true_vals - predicted_vals))\n",
    "\n",
    "def R_2_a(true_vals: np.ndarray, predicted_vals: np.ndarray) -> float:\n",
    "    return SQE(true_vals, predicted_vals) / SQT(true_vals)\n",
    "\n",
    "def R_2_b(true_vals: np.ndarray, predicted_vals: np.ndarray) -> float:\n",
    "    return 1 - (SQR(true_vals, predicted_vals) / SQT(true_vals))\n",
    "\n",
    "def note(title: str, msg_list: list[str]) -> None:\n",
    "    num = 100\n",
    "    print(\"=\"*num)\n",
    "    print(title)\n",
    "    print(\"-\"*num)\n",
    "    for msg in msg_list:\n",
    "        print(msg)\n",
    "    print(\"=\"*num)"
   ]
  },
  {
   "cell_type": "code",
   "execution_count": 39,
   "metadata": {},
   "outputs": [
    {
     "name": "stdout",
     "output_type": "stream",
     "text": [
      "====================================================================================================\n",
      "R2-Values\n",
      "----------------------------------------------------------------------------------------------------\n",
      "R-2-a: 0.15115624537576597\n",
      "R-2-b: -0.1696232859514113\n",
      "====================================================================================================\n"
     ]
    },
    {
     "data": {
      "image/png": "[encoded data removed]",
      "text/plain": [
       "<Figure size 640x480 with 1 Axes>"
      ]
     },
     "metadata": {},
     "output_type": "display_data"
    }
   ],
   "source": [
    "def y_predict_linear(x, slope=0, intercept=0):\n",
    "    return intercept + x*slope\n",
    "\n",
    "num = 10\n",
    "x = np.arange(0, num)\n",
    "\n",
    "rng = np.random.default_rng(42)\n",
    "normal_dist = rng.normal(0, 0.5, num)\n",
    "prediction = y_predict_linear(x, slope=0.01, intercept=0)\n",
    "true_values = normal_dist + prediction\n",
    "\n",
    "msg = [\n",
    "    f\"R-2-a: {R_2_a(true_values, prediction)}\",\n",
    "    f\"R-2-b: {R_2_b(true_values, prediction)}\"\n",
    "]\n",
    "note(\"R2-Values\", msg)\n",
    "\n",
    "fig, ax = plt.subplots()\n",
    "sc = ax.scatter(x, true_values)\n",
    "line, = ax.plot(x, prediction, marker=\"\", ls=\"-\", color=\"blue\")\n",
    "ax.set_ylim(-1, 1)\n",
    "fig.tight_layout()\n",
    "plt.show()"
   ]
  }
 ],
 "metadata": {
  "kernelspec": {
   "display_name": "data_analytics",
   "language": "python",
   "name": "python3"
  },
  "language_info": {
   "codemirror_mode": {
    "name": "ipython",
    "version": 3
   },
   "file_extension": ".py",
   "mimetype": "text/x-python",
   "name": "python",
   "nbconvert_exporter": "python",
   "pygments_lexer": "ipython3",
   "version": "3.12.3"
  }
 },
 "nbformat": 4,
 "nbformat_minor": 2
}
